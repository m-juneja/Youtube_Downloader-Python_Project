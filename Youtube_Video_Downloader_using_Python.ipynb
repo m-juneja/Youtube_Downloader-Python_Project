{
 "cells": [
  {
   "cell_type": "markdown",
   "metadata": {},
   "source": [
    "## Project : Video Downloading from Youtube \n",
    "#### Objectives :\n",
    "- Searching the youtube with specific topic and getting results.  \n",
    "- Create the dataframes to save the videos which we like with their corresponding data. \n",
    "- Building a list of URLS which are interested for us to download \n",
    "-  Downloading them in specified directories "
   ]
  },
  {
   "cell_type": "code",
   "execution_count": null,
   "metadata": {},
   "outputs": [],
   "source": [
    "# downloading  SOME  packages : \n",
    "# - pip install youtube-search-python"
   ]
  },
  {
   "cell_type": "code",
   "execution_count": 8,
   "metadata": {},
   "outputs": [],
   "source": [
    "from youtube_search import YoutubeSearch"
   ]
  },
  {
   "cell_type": "code",
   "execution_count": 11,
   "metadata": {},
   "outputs": [],
   "source": [
    "r1=YoutubeSearch(\"indian politics\",max_results=5).to_json()"
   ]
  },
  {
   "cell_type": "code",
   "execution_count": 25,
   "metadata": {},
   "outputs": [
    {
     "name": "stdout",
     "output_type": "stream",
     "text": [
      "{\"videos\": [{\"id\": \"HuK2WPmcbjA\", \"thumbnails\": [\"https://i.ytimg.com/vi/HuK2WPmcbjA/hq720.jpg?sqp=-oaymwEjCOgCEMoBSFryq4qpAxUIARUAAAAAGAElAADIQj0AgKJDeAE=&rs=AOn4CLBwYejc5NOf7W8dXul6q29Nq7sGRQ\", \"https://i.ytimg.com/vi/HuK2WPmcbjA/hq720.jpg?sqp=-oaymwEXCNAFEJQDSFryq4qpAwkIARUAAIhCGAE=&rs=AOn4CLCFcdFyR-0o3JNhkM901kjBW6AWPw\"], \"title\": \"Indian Politics Explained\", \"long_desc\": \"In this video I have pin pointed a problem that exists in the \", \"channel\": \"Amit Sengupta\", \"duration\": \"2:51\", \"views\": \"116,874 views\", \"publish_time\": \"5 years ago\", \"url_suffix\": \"/watch?v=HuK2WPmcbjA\"}, {\"id\": \"jZwEeHERYhc\", \"thumbnails\": [\"https://i.ytimg.com/vi/jZwEeHERYhc/hq720.jpg?sqp=-oaymwEjCOgCEMoBSFryq4qpAxUIARUAAAAAGAElAADIQj0AgKJDeAE=&rs=AOn4CLB-ZwNd8jWhFOP6QmebcqY-bXgoCw\", \"https://i.ytimg.com/vi/jZwEeHERYhc/hq720.jpg?sqp=-oaymwEXCNAFEJQDSFryq4qpAwkIARUAAIhCGAE=&rs=AOn4CLD5qq_1jx8bHYyyumJiBAIAOzkqiQ\"], \"title\": \"Politics in India, Instagram & Sign boards | Stand-up Comedy | Munawar Faruqui | 2020\", \"long_desc\": \"MY FIRST VIDEO IS HERE!!! Doston, Kaafi pyaar se banaya hai, Dekho aur Mazze karo... Achaa lage toh Share kardena aur\\u00a0...\", \"channel\": \"Munawar Faruqui\", \"duration\": \"11:55\", \"views\": \"3,440,460 views\", \"publish_time\": \"1 year ago\", \"url_suffix\": \"/watch?v=jZwEeHERYhc\"}, {\"id\": \"qqZ_SH9N3Xo\", \"thumbnails\": [\"https://i.ytimg.com/vi/qqZ_SH9N3Xo/hq720.jpg?sqp=-oaymwEjCOgCEMoBSFryq4qpAxUIARUAAAAAGAElAADIQj0AgKJDeAE=&rs=AOn4CLAmMKj2PpWORt8WHA66dhWv4zjIJw\", \"https://i.ytimg.com/vi/qqZ_SH9N3Xo/hq720.jpg?sqp=-oaymwEXCNAFEJQDSFryq4qpAwkIARUAAIhCGAE=&rs=AOn4CLAs8YqEFbBZeWs8dRr7kjVnui3TsA\"], \"title\": \"Indian Elections | Patriot Act with Hasan Minhaj | Netflix\", \"long_desc\": \"On the latest episode of Patriot Act, Hasan analyzes the current state of \", \"channel\": \"Netflix Is A Joke\", \"duration\": \"29:14\", \"views\": \"5,724,641 views\", \"publish_time\": \"1 year ago\", \"url_suffix\": \"/watch?v=qqZ_SH9N3Xo\"}, {\"id\": \"S0tF7pNYhKY\", \"thumbnails\": [\"https://i.ytimg.com/vi/S0tF7pNYhKY/hq720.jpg?sqp=-oaymwEjCOgCEMoBSFryq4qpAxUIARUAAAAAGAElAADIQj0AgKJDeAE=&rs=AOn4CLDshuVn0Z4kCa5zybxyVJ2i6ztHHg\", \"https://i.ytimg.com/vi/S0tF7pNYhKY/hq720.jpg?sqp=-oaymwEXCNAFEJQDSFryq4qpAwkIARUAAIhCGAE=&rs=AOn4CLAhvnkNqzp02vo1veKJLGEmsKPtPQ\"], \"title\": \"INDIAN POLITICS TREND AND DEVLOPMENT CLASS12 POLITICAL SCIENCE BOOK-2\", \"long_desc\": \"PART-2 VIDEO LINK --https://youtu.be/G4qIdn7K7p0.\", \"channel\": \"Simran Sahni\", \"duration\": \"38:43\", \"views\": \"47,033 views\", \"publish_time\": \"3 months ago\", \"url_suffix\": \"/watch?v=S0tF7pNYhKY\"}, {\"id\": \"sLZnAZynTmw\", \"thumbnails\": [\"https://i.ytimg.com/vi/sLZnAZynTmw/hq720.jpg?sqp=-oaymwEjCOgCEMoBSFryq4qpAxUIARUAAAAAGAElAADIQj0AgKJDeAE=&rs=AOn4CLDkj6_UjM_57mKxMLxaqeVcc4G-lQ\", \"https://i.ytimg.com/vi/sLZnAZynTmw/hq720.jpg?sqp=-oaymwEXCNAFEJQDSFryq4qpAwkIARUAAIhCGAE=&rs=AOn4CLDxWtZsZxudtKo9pXlur-JButszIw\"], \"title\": \"Funny Moments From The Lok Sabha Oath Taking Ceremony\", \"long_desc\": \"The oath taking ceremony at the 17th Lok Sabha got a bit awkward. Brut \", \"channel\": \"Brut India\", \"duration\": \"3:02\", \"views\": \"4,468,310 views\", \"publish_time\": \"1 year ago\", \"url_suffix\": \"/watch?v=sLZnAZynTmw\"}]}\n"
     ]
    }
   ],
   "source": [
    "print(r1)"
   ]
  },
  {
   "cell_type": "code",
   "execution_count": null,
   "metadata": {},
   "outputs": [],
   "source": [
    "# - we need to build a functionality to save user inputs in some lists , five questions which user want to know about or any five topics\n",
    "# which user is looking to download from youtube. \n",
    "\n",
    "# - parsing the output which we are getting from youtube. \n",
    " - URL - required \n",
    " "
   ]
  },
  {
   "cell_type": "code",
   "execution_count": 13,
   "metadata": {},
   "outputs": [
    {
     "name": "stdout",
     "output_type": "stream",
     "text": [
      "Enter your 0 topic usa\n",
      "Enter your 1 topic chicken korma\n",
      "Enter your 2 topic india economy\n",
      "Enter your 3 topic share market\n",
      "Enter your 4 topic sports\n"
     ]
    }
   ],
   "source": [
    "topics=[]\n",
    "for i in range(5):\n",
    "    x=input(\"Enter your {} topic \".format (i))\n",
    "    topics.append(x)"
   ]
  },
  {
   "cell_type": "code",
   "execution_count": 14,
   "metadata": {},
   "outputs": [
    {
     "data": {
      "text/plain": [
       "['usa', 'chicken korma', 'india economy', 'share market', 'sports']"
      ]
     },
     "execution_count": 14,
     "metadata": {},
     "output_type": "execute_result"
    }
   ],
   "source": [
    "topics"
   ]
  },
  {
   "cell_type": "code",
   "execution_count": 29,
   "metadata": {},
   "outputs": [],
   "source": [
    "import json"
   ]
  },
  {
   "cell_type": "code",
   "execution_count": 32,
   "metadata": {},
   "outputs": [
    {
     "data": {
      "text/plain": [
       "{'videos': [{'id': 'HuK2WPmcbjA',\n",
       "   'thumbnails': ['https://i.ytimg.com/vi/HuK2WPmcbjA/hq720.jpg?sqp=-oaymwEjCOgCEMoBSFryq4qpAxUIARUAAAAAGAElAADIQj0AgKJDeAE=&rs=AOn4CLBwYejc5NOf7W8dXul6q29Nq7sGRQ',\n",
       "    'https://i.ytimg.com/vi/HuK2WPmcbjA/hq720.jpg?sqp=-oaymwEXCNAFEJQDSFryq4qpAwkIARUAAIhCGAE=&rs=AOn4CLCFcdFyR-0o3JNhkM901kjBW6AWPw'],\n",
       "   'title': 'Indian Politics Explained',\n",
       "   'long_desc': 'In this video I have pin pointed a problem that exists in the ',\n",
       "   'channel': 'Amit Sengupta',\n",
       "   'duration': '2:51',\n",
       "   'views': '116,874 views',\n",
       "   'publish_time': '5 years ago',\n",
       "   'url_suffix': '/watch?v=HuK2WPmcbjA'},\n",
       "  {'id': 'jZwEeHERYhc',\n",
       "   'thumbnails': ['https://i.ytimg.com/vi/jZwEeHERYhc/hq720.jpg?sqp=-oaymwEjCOgCEMoBSFryq4qpAxUIARUAAAAAGAElAADIQj0AgKJDeAE=&rs=AOn4CLB-ZwNd8jWhFOP6QmebcqY-bXgoCw',\n",
       "    'https://i.ytimg.com/vi/jZwEeHERYhc/hq720.jpg?sqp=-oaymwEXCNAFEJQDSFryq4qpAwkIARUAAIhCGAE=&rs=AOn4CLD5qq_1jx8bHYyyumJiBAIAOzkqiQ'],\n",
       "   'title': 'Politics in India, Instagram & Sign boards | Stand-up Comedy | Munawar Faruqui | 2020',\n",
       "   'long_desc': 'MY FIRST VIDEO IS HERE!!! Doston, Kaafi pyaar se banaya hai, Dekho aur Mazze karo... Achaa lage toh Share kardena aur\\xa0...',\n",
       "   'channel': 'Munawar Faruqui',\n",
       "   'duration': '11:55',\n",
       "   'views': '3,440,460 views',\n",
       "   'publish_time': '1 year ago',\n",
       "   'url_suffix': '/watch?v=jZwEeHERYhc'},\n",
       "  {'id': 'qqZ_SH9N3Xo',\n",
       "   'thumbnails': ['https://i.ytimg.com/vi/qqZ_SH9N3Xo/hq720.jpg?sqp=-oaymwEjCOgCEMoBSFryq4qpAxUIARUAAAAAGAElAADIQj0AgKJDeAE=&rs=AOn4CLAmMKj2PpWORt8WHA66dhWv4zjIJw',\n",
       "    'https://i.ytimg.com/vi/qqZ_SH9N3Xo/hq720.jpg?sqp=-oaymwEXCNAFEJQDSFryq4qpAwkIARUAAIhCGAE=&rs=AOn4CLAs8YqEFbBZeWs8dRr7kjVnui3TsA'],\n",
       "   'title': 'Indian Elections | Patriot Act with Hasan Minhaj | Netflix',\n",
       "   'long_desc': 'On the latest episode of Patriot Act, Hasan analyzes the current state of ',\n",
       "   'channel': 'Netflix Is A Joke',\n",
       "   'duration': '29:14',\n",
       "   'views': '5,724,641 views',\n",
       "   'publish_time': '1 year ago',\n",
       "   'url_suffix': '/watch?v=qqZ_SH9N3Xo'},\n",
       "  {'id': 'S0tF7pNYhKY',\n",
       "   'thumbnails': ['https://i.ytimg.com/vi/S0tF7pNYhKY/hq720.jpg?sqp=-oaymwEjCOgCEMoBSFryq4qpAxUIARUAAAAAGAElAADIQj0AgKJDeAE=&rs=AOn4CLDshuVn0Z4kCa5zybxyVJ2i6ztHHg',\n",
       "    'https://i.ytimg.com/vi/S0tF7pNYhKY/hq720.jpg?sqp=-oaymwEXCNAFEJQDSFryq4qpAwkIARUAAIhCGAE=&rs=AOn4CLAhvnkNqzp02vo1veKJLGEmsKPtPQ'],\n",
       "   'title': 'INDIAN POLITICS TREND AND DEVLOPMENT CLASS12 POLITICAL SCIENCE BOOK-2',\n",
       "   'long_desc': 'PART-2 VIDEO LINK --https://youtu.be/G4qIdn7K7p0.',\n",
       "   'channel': 'Simran Sahni',\n",
       "   'duration': '38:43',\n",
       "   'views': '47,033 views',\n",
       "   'publish_time': '3 months ago',\n",
       "   'url_suffix': '/watch?v=S0tF7pNYhKY'},\n",
       "  {'id': 'sLZnAZynTmw',\n",
       "   'thumbnails': ['https://i.ytimg.com/vi/sLZnAZynTmw/hq720.jpg?sqp=-oaymwEjCOgCEMoBSFryq4qpAxUIARUAAAAAGAElAADIQj0AgKJDeAE=&rs=AOn4CLDkj6_UjM_57mKxMLxaqeVcc4G-lQ',\n",
       "    'https://i.ytimg.com/vi/sLZnAZynTmw/hq720.jpg?sqp=-oaymwEXCNAFEJQDSFryq4qpAwkIARUAAIhCGAE=&rs=AOn4CLDxWtZsZxudtKo9pXlur-JButszIw'],\n",
       "   'title': 'Funny Moments From The Lok Sabha Oath Taking Ceremony',\n",
       "   'long_desc': 'The oath taking ceremony at the 17th Lok Sabha got a bit awkward. Brut ',\n",
       "   'channel': 'Brut India',\n",
       "   'duration': '3:02',\n",
       "   'views': '4,468,310 views',\n",
       "   'publish_time': '1 year ago',\n",
       "   'url_suffix': '/watch?v=sLZnAZynTmw'}]}"
      ]
     },
     "execution_count": 32,
     "metadata": {},
     "output_type": "execute_result"
    }
   ],
   "source": [
    "y1=json.loads(r1)\n",
    "y1"
   ]
  },
  {
   "cell_type": "code",
   "execution_count": 33,
   "metadata": {},
   "outputs": [
    {
     "name": "stdout",
     "output_type": "stream",
     "text": [
      "{'id': 'HuK2WPmcbjA', 'thumbnails': ['https://i.ytimg.com/vi/HuK2WPmcbjA/hq720.jpg?sqp=-oaymwEjCOgCEMoBSFryq4qpAxUIARUAAAAAGAElAADIQj0AgKJDeAE=&rs=AOn4CLBwYejc5NOf7W8dXul6q29Nq7sGRQ', 'https://i.ytimg.com/vi/HuK2WPmcbjA/hq720.jpg?sqp=-oaymwEXCNAFEJQDSFryq4qpAwkIARUAAIhCGAE=&rs=AOn4CLCFcdFyR-0o3JNhkM901kjBW6AWPw'], 'title': 'Indian Politics Explained', 'long_desc': 'In this video I have pin pointed a problem that exists in the ', 'channel': 'Amit Sengupta', 'duration': '2:51', 'views': '116,874 views', 'publish_time': '5 years ago', 'url_suffix': '/watch?v=HuK2WPmcbjA'}\n"
     ]
    }
   ],
   "source": [
    "print(y1['videos'][0])"
   ]
  },
  {
   "cell_type": "code",
   "execution_count": 35,
   "metadata": {},
   "outputs": [
    {
     "name": "stdout",
     "output_type": "stream",
     "text": [
      "{'id': 'jZwEeHERYhc', 'thumbnails': ['https://i.ytimg.com/vi/jZwEeHERYhc/hq720.jpg?sqp=-oaymwEjCOgCEMoBSFryq4qpAxUIARUAAAAAGAElAADIQj0AgKJDeAE=&rs=AOn4CLB-ZwNd8jWhFOP6QmebcqY-bXgoCw', 'https://i.ytimg.com/vi/jZwEeHERYhc/hq720.jpg?sqp=-oaymwEXCNAFEJQDSFryq4qpAwkIARUAAIhCGAE=&rs=AOn4CLD5qq_1jx8bHYyyumJiBAIAOzkqiQ'], 'title': 'Politics in India, Instagram & Sign boards | Stand-up Comedy | Munawar Faruqui | 2020', 'long_desc': 'MY FIRST VIDEO IS HERE!!! Doston, Kaafi pyaar se banaya hai, Dekho aur Mazze karo... Achaa lage toh Share kardena aur\\xa0...', 'channel': 'Munawar Faruqui', 'duration': '11:55', 'views': '3,440,460 views', 'publish_time': '1 year ago', 'url_suffix': '/watch?v=jZwEeHERYhc'}\n"
     ]
    }
   ],
   "source": [
    "print(y1['videos'][1])"
   ]
  },
  {
   "cell_type": "code",
   "execution_count": 36,
   "metadata": {},
   "outputs": [],
   "source": [
    "import pandas as pd"
   ]
  },
  {
   "cell_type": "code",
   "execution_count": 41,
   "metadata": {},
   "outputs": [
    {
     "data": {
      "text/html": [
       "<div>\n",
       "<style scoped>\n",
       "    .dataframe tbody tr th:only-of-type {\n",
       "        vertical-align: middle;\n",
       "    }\n",
       "\n",
       "    .dataframe tbody tr th {\n",
       "        vertical-align: top;\n",
       "    }\n",
       "\n",
       "    .dataframe thead th {\n",
       "        text-align: right;\n",
       "    }\n",
       "</style>\n",
       "<table border=\"1\" class=\"dataframe\">\n",
       "  <thead>\n",
       "    <tr style=\"text-align: right;\">\n",
       "      <th></th>\n",
       "      <th>id</th>\n",
       "      <th>thumbnails</th>\n",
       "      <th>title</th>\n",
       "      <th>long_desc</th>\n",
       "      <th>channel</th>\n",
       "      <th>duration</th>\n",
       "      <th>views</th>\n",
       "      <th>publish_time</th>\n",
       "      <th>url_suffix</th>\n",
       "    </tr>\n",
       "  </thead>\n",
       "  <tbody>\n",
       "    <tr>\n",
       "      <th>0</th>\n",
       "      <td>HuK2WPmcbjA</td>\n",
       "      <td>[https://i.ytimg.com/vi/HuK2WPmcbjA/hq720.jpg?...</td>\n",
       "      <td>Indian Politics Explained</td>\n",
       "      <td>In this video I have pin pointed a problem tha...</td>\n",
       "      <td>Amit Sengupta</td>\n",
       "      <td>2:51</td>\n",
       "      <td>116,874 views</td>\n",
       "      <td>5 years ago</td>\n",
       "      <td>/watch?v=HuK2WPmcbjA</td>\n",
       "    </tr>\n",
       "    <tr>\n",
       "      <th>1</th>\n",
       "      <td>jZwEeHERYhc</td>\n",
       "      <td>[https://i.ytimg.com/vi/jZwEeHERYhc/hq720.jpg?...</td>\n",
       "      <td>Politics in India, Instagram &amp; Sign boards | S...</td>\n",
       "      <td>MY FIRST VIDEO IS HERE!!! Doston, Kaafi pyaar ...</td>\n",
       "      <td>Munawar Faruqui</td>\n",
       "      <td>11:55</td>\n",
       "      <td>3,440,460 views</td>\n",
       "      <td>1 year ago</td>\n",
       "      <td>/watch?v=jZwEeHERYhc</td>\n",
       "    </tr>\n",
       "    <tr>\n",
       "      <th>2</th>\n",
       "      <td>qqZ_SH9N3Xo</td>\n",
       "      <td>[https://i.ytimg.com/vi/qqZ_SH9N3Xo/hq720.jpg?...</td>\n",
       "      <td>Indian Elections | Patriot Act with Hasan Minh...</td>\n",
       "      <td>On the latest episode of Patriot Act, Hasan an...</td>\n",
       "      <td>Netflix Is A Joke</td>\n",
       "      <td>29:14</td>\n",
       "      <td>5,724,641 views</td>\n",
       "      <td>1 year ago</td>\n",
       "      <td>/watch?v=qqZ_SH9N3Xo</td>\n",
       "    </tr>\n",
       "    <tr>\n",
       "      <th>3</th>\n",
       "      <td>S0tF7pNYhKY</td>\n",
       "      <td>[https://i.ytimg.com/vi/S0tF7pNYhKY/hq720.jpg?...</td>\n",
       "      <td>INDIAN POLITICS TREND AND DEVLOPMENT CLASS12 P...</td>\n",
       "      <td>PART-2 VIDEO LINK --https://youtu.be/G4qIdn7K7p0.</td>\n",
       "      <td>Simran Sahni</td>\n",
       "      <td>38:43</td>\n",
       "      <td>47,033 views</td>\n",
       "      <td>3 months ago</td>\n",
       "      <td>/watch?v=S0tF7pNYhKY</td>\n",
       "    </tr>\n",
       "    <tr>\n",
       "      <th>4</th>\n",
       "      <td>sLZnAZynTmw</td>\n",
       "      <td>[https://i.ytimg.com/vi/sLZnAZynTmw/hq720.jpg?...</td>\n",
       "      <td>Funny Moments From The Lok Sabha Oath Taking C...</td>\n",
       "      <td>The oath taking ceremony at the 17th Lok Sabha...</td>\n",
       "      <td>Brut India</td>\n",
       "      <td>3:02</td>\n",
       "      <td>4,468,310 views</td>\n",
       "      <td>1 year ago</td>\n",
       "      <td>/watch?v=sLZnAZynTmw</td>\n",
       "    </tr>\n",
       "  </tbody>\n",
       "</table>\n",
       "</div>"
      ],
      "text/plain": [
       "            id                                         thumbnails  \\\n",
       "0  HuK2WPmcbjA  [https://i.ytimg.com/vi/HuK2WPmcbjA/hq720.jpg?...   \n",
       "1  jZwEeHERYhc  [https://i.ytimg.com/vi/jZwEeHERYhc/hq720.jpg?...   \n",
       "2  qqZ_SH9N3Xo  [https://i.ytimg.com/vi/qqZ_SH9N3Xo/hq720.jpg?...   \n",
       "3  S0tF7pNYhKY  [https://i.ytimg.com/vi/S0tF7pNYhKY/hq720.jpg?...   \n",
       "4  sLZnAZynTmw  [https://i.ytimg.com/vi/sLZnAZynTmw/hq720.jpg?...   \n",
       "\n",
       "                                               title  \\\n",
       "0                          Indian Politics Explained   \n",
       "1  Politics in India, Instagram & Sign boards | S...   \n",
       "2  Indian Elections | Patriot Act with Hasan Minh...   \n",
       "3  INDIAN POLITICS TREND AND DEVLOPMENT CLASS12 P...   \n",
       "4  Funny Moments From The Lok Sabha Oath Taking C...   \n",
       "\n",
       "                                           long_desc            channel  \\\n",
       "0  In this video I have pin pointed a problem tha...      Amit Sengupta   \n",
       "1  MY FIRST VIDEO IS HERE!!! Doston, Kaafi pyaar ...    Munawar Faruqui   \n",
       "2  On the latest episode of Patriot Act, Hasan an...  Netflix Is A Joke   \n",
       "3  PART-2 VIDEO LINK --https://youtu.be/G4qIdn7K7p0.       Simran Sahni   \n",
       "4  The oath taking ceremony at the 17th Lok Sabha...         Brut India   \n",
       "\n",
       "  duration            views  publish_time            url_suffix  \n",
       "0     2:51    116,874 views   5 years ago  /watch?v=HuK2WPmcbjA  \n",
       "1    11:55  3,440,460 views    1 year ago  /watch?v=jZwEeHERYhc  \n",
       "2    29:14  5,724,641 views    1 year ago  /watch?v=qqZ_SH9N3Xo  \n",
       "3    38:43     47,033 views  3 months ago  /watch?v=S0tF7pNYhKY  \n",
       "4     3:02  4,468,310 views    1 year ago  /watch?v=sLZnAZynTmw  "
      ]
     },
     "execution_count": 41,
     "metadata": {},
     "output_type": "execute_result"
    }
   ],
   "source": [
    "data_videos_search=pd.json_normalize(y1['videos'])\n",
    "data_videos_search"
   ]
  },
  {
   "cell_type": "code",
   "execution_count": null,
   "metadata": {},
   "outputs": [],
   "source": [
    "data_videos_search['thum']"
   ]
  },
  {
   "cell_type": "code",
   "execution_count": null,
   "metadata": {},
   "outputs": [],
   "source": []
  },
  {
   "cell_type": "code",
   "execution_count": null,
   "metadata": {},
   "outputs": [],
   "source": []
  },
  {
   "cell_type": "code",
   "execution_count": null,
   "metadata": {},
   "outputs": [],
   "source": []
  },
  {
   "cell_type": "code",
   "execution_count": null,
   "metadata": {},
   "outputs": [],
   "source": []
  },
  {
   "cell_type": "code",
   "execution_count": null,
   "metadata": {},
   "outputs": [],
   "source": []
  },
  {
   "cell_type": "code",
   "execution_count": null,
   "metadata": {},
   "outputs": [],
   "source": []
  },
  {
   "cell_type": "code",
   "execution_count": null,
   "metadata": {},
   "outputs": [],
   "source": []
  },
  {
   "cell_type": "code",
   "execution_count": null,
   "metadata": {},
   "outputs": [],
   "source": []
  },
  {
   "cell_type": "code",
   "execution_count": null,
   "metadata": {},
   "outputs": [],
   "source": []
  }
 ],
 "metadata": {
  "kernelspec": {
   "display_name": "Python 3",
   "language": "python",
   "name": "python3"
  },
  "language_info": {
   "codemirror_mode": {
    "name": "ipython",
    "version": 3
   },
   "file_extension": ".py",
   "mimetype": "text/x-python",
   "name": "python",
   "nbconvert_exporter": "python",
   "pygments_lexer": "ipython3",
   "version": "3.7.3"
  }
 },
 "nbformat": 4,
 "nbformat_minor": 2
}
